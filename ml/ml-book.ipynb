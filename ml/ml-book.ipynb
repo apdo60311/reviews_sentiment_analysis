{
 "cells": [
  {
   "cell_type": "code",
   "execution_count": 51,
   "metadata": {},
   "outputs": [
    {
     "name": "stderr",
     "output_type": "stream",
     "text": [
      "[nltk_data] Downloading package vader_lexicon to\n",
      "[nltk_data]     C:\\Users\\Lenovo\\AppData\\Roaming\\nltk_data...\n",
      "[nltk_data]   Package vader_lexicon is already up-to-date!\n",
      "[nltk_data] Downloading package opinion_lexicon to\n",
      "[nltk_data]     C:\\Users\\Lenovo\\AppData\\Roaming\\nltk_data...\n",
      "[nltk_data]   Package opinion_lexicon is already up-to-date!\n"
     ]
    },
    {
     "data": {
      "text/plain": [
       "True"
      ]
     },
     "execution_count": 51,
     "metadata": {},
     "output_type": "execute_result"
    }
   ],
   "source": [
    "import re\n",
    "import pandas as pd \n",
    "import nltk\n",
    "from nltk.corpus import stopwords , opinion_lexicon\n",
    "from sklearn.feature_extraction.text import TfidfVectorizer\n",
    "from sklearn.model_selection import train_test_split\n",
    "from sklearn.naive_bayes import MultinomialNB\n",
    "from sklearn.metrics import classification_report\n",
    "from sklearn.ensemble import RandomForestClassifier\n",
    "import plotly.graph_objects as go\n",
    "\n",
    "\n",
    "\n",
    "\n",
    "nltk.download('vader_lexicon')\n",
    "nltk.download('opinion_lexicon')"
   ]
  },
  {
   "cell_type": "code",
   "execution_count": 63,
   "metadata": {},
   "outputs": [],
   "source": [
    "import warnings\n",
    "warnings.filterwarnings('ignore')"
   ]
  },
  {
   "cell_type": "code",
   "execution_count": 2,
   "metadata": {},
   "outputs": [
    {
     "data": {
      "text/html": [
       "<div>\n",
       "<style scoped>\n",
       "    .dataframe tbody tr th:only-of-type {\n",
       "        vertical-align: middle;\n",
       "    }\n",
       "\n",
       "    .dataframe tbody tr th {\n",
       "        vertical-align: top;\n",
       "    }\n",
       "\n",
       "    .dataframe thead th {\n",
       "        text-align: right;\n",
       "    }\n",
       "</style>\n",
       "<table border=\"1\" class=\"dataframe\">\n",
       "  <thead>\n",
       "    <tr style=\"text-align: right;\">\n",
       "      <th></th>\n",
       "      <th>asin</th>\n",
       "      <th>title</th>\n",
       "      <th>comment</th>\n",
       "      <th>rate</th>\n",
       "      <th>helpful_votes</th>\n",
       "      <th>review_date</th>\n",
       "      <th>is_verified_purchase</th>\n",
       "    </tr>\n",
       "  </thead>\n",
       "  <tbody>\n",
       "    <tr>\n",
       "      <th>0</th>\n",
       "      <td>B0CL5KNB9M</td>\n",
       "      <td>PlayStation 5  Digital Edition Fortnite Cobalt...</td>\n",
       "      <td>I recently purchased the PlayStation 5 Pro  Di...</td>\n",
       "      <td>5</td>\n",
       "      <td>6 people found this helpful</td>\n",
       "      <td>Reviewed in the United States on December 7, 2024</td>\n",
       "      <td>True</td>\n",
       "    </tr>\n",
       "    <tr>\n",
       "      <th>1</th>\n",
       "      <td>B0CL5KNB9M</td>\n",
       "      <td>Fives No Jive</td>\n",
       "      <td>A longtime PlayStation fan I had been putting ...</td>\n",
       "      <td>5</td>\n",
       "      <td>551 people found this helpful</td>\n",
       "      <td>Reviewed in the United States on June 8, 2024</td>\n",
       "      <td>True</td>\n",
       "    </tr>\n",
       "    <tr>\n",
       "      <th>2</th>\n",
       "      <td>B0CL5KNB9M</td>\n",
       "      <td>PlayStation5 Console Slim Review</td>\n",
       "      <td>The PlayStation5 Console Slim is a fantastic e...</td>\n",
       "      <td>5</td>\n",
       "      <td>94 people found this helpful</td>\n",
       "      <td>Reviewed in the United States on November 15, ...</td>\n",
       "      <td>True</td>\n",
       "    </tr>\n",
       "    <tr>\n",
       "      <th>3</th>\n",
       "      <td>B0CL5KNB9M</td>\n",
       "      <td>Compact Sleek and Reliable</td>\n",
       "      <td>The PS5 Digital Slim has worked flawlessly Its...</td>\n",
       "      <td>5</td>\n",
       "      <td>NaN</td>\n",
       "      <td>Reviewed in the United States on December 11, ...</td>\n",
       "      <td>True</td>\n",
       "    </tr>\n",
       "    <tr>\n",
       "      <th>4</th>\n",
       "      <td>B0CL5KNB9M</td>\n",
       "      <td>works great</td>\n",
       "      <td>turn it on clean shiny fast load the only thin...</td>\n",
       "      <td>5</td>\n",
       "      <td>19 people found this helpful</td>\n",
       "      <td>Reviewed in the United States on November 29, ...</td>\n",
       "      <td>True</td>\n",
       "    </tr>\n",
       "  </tbody>\n",
       "</table>\n",
       "</div>"
      ],
      "text/plain": [
       "         asin                                              title  \\\n",
       "0  B0CL5KNB9M  PlayStation 5  Digital Edition Fortnite Cobalt...   \n",
       "1  B0CL5KNB9M                                      Fives No Jive   \n",
       "2  B0CL5KNB9M                   PlayStation5 Console Slim Review   \n",
       "3  B0CL5KNB9M                         Compact Sleek and Reliable   \n",
       "4  B0CL5KNB9M                                        works great   \n",
       "\n",
       "                                             comment  rate  \\\n",
       "0  I recently purchased the PlayStation 5 Pro  Di...     5   \n",
       "1  A longtime PlayStation fan I had been putting ...     5   \n",
       "2  The PlayStation5 Console Slim is a fantastic e...     5   \n",
       "3  The PS5 Digital Slim has worked flawlessly Its...     5   \n",
       "4  turn it on clean shiny fast load the only thin...     5   \n",
       "\n",
       "                   helpful_votes  \\\n",
       "0    6 people found this helpful   \n",
       "1  551 people found this helpful   \n",
       "2   94 people found this helpful   \n",
       "3                            NaN   \n",
       "4   19 people found this helpful   \n",
       "\n",
       "                                         review_date  is_verified_purchase  \n",
       "0  Reviewed in the United States on December 7, 2024                  True  \n",
       "1      Reviewed in the United States on June 8, 2024                  True  \n",
       "2  Reviewed in the United States on November 15, ...                  True  \n",
       "3  Reviewed in the United States on December 11, ...                  True  \n",
       "4  Reviewed in the United States on November 29, ...                  True  "
      ]
     },
     "execution_count": 2,
     "metadata": {},
     "output_type": "execute_result"
    }
   ],
   "source": [
    "df = pd.read_csv(\"C:/Users/Lenovo/Desktop/ds_tools_api/reviews.csv\")\n",
    "df.head()"
   ]
  },
  {
   "cell_type": "code",
   "execution_count": 3,
   "metadata": {},
   "outputs": [
    {
     "data": {
      "text/html": [
       "<div>\n",
       "<style scoped>\n",
       "    .dataframe tbody tr th:only-of-type {\n",
       "        vertical-align: middle;\n",
       "    }\n",
       "\n",
       "    .dataframe tbody tr th {\n",
       "        vertical-align: top;\n",
       "    }\n",
       "\n",
       "    .dataframe thead th {\n",
       "        text-align: right;\n",
       "    }\n",
       "</style>\n",
       "<table border=\"1\" class=\"dataframe\">\n",
       "  <thead>\n",
       "    <tr style=\"text-align: right;\">\n",
       "      <th></th>\n",
       "      <th>asin</th>\n",
       "      <th>title</th>\n",
       "      <th>comment</th>\n",
       "      <th>rate</th>\n",
       "      <th>helpful_votes</th>\n",
       "      <th>review_date</th>\n",
       "      <th>is_verified_purchase</th>\n",
       "    </tr>\n",
       "  </thead>\n",
       "  <tbody>\n",
       "    <tr>\n",
       "      <th>0</th>\n",
       "      <td>B0CL5KNB9M</td>\n",
       "      <td>PlayStation 5  Digital Edition Fortnite Cobalt...</td>\n",
       "      <td>recently purchased playstation pro digital edi...</td>\n",
       "      <td>5</td>\n",
       "      <td>6 people found this helpful</td>\n",
       "      <td>Reviewed in the United States on December 7, 2024</td>\n",
       "      <td>True</td>\n",
       "    </tr>\n",
       "    <tr>\n",
       "      <th>1</th>\n",
       "      <td>B0CL5KNB9M</td>\n",
       "      <td>Fives No Jive</td>\n",
       "      <td>longtime playstation fan putting getting ps th...</td>\n",
       "      <td>5</td>\n",
       "      <td>551 people found this helpful</td>\n",
       "      <td>Reviewed in the United States on June 8, 2024</td>\n",
       "      <td>True</td>\n",
       "    </tr>\n",
       "    <tr>\n",
       "      <th>2</th>\n",
       "      <td>B0CL5KNB9M</td>\n",
       "      <td>PlayStation5 Console Slim Review</td>\n",
       "      <td>playstation console slim fantastic evolution o...</td>\n",
       "      <td>5</td>\n",
       "      <td>94 people found this helpful</td>\n",
       "      <td>Reviewed in the United States on November 15, ...</td>\n",
       "      <td>True</td>\n",
       "    </tr>\n",
       "    <tr>\n",
       "      <th>3</th>\n",
       "      <td>B0CL5KNB9M</td>\n",
       "      <td>Compact Sleek and Reliable</td>\n",
       "      <td>ps digital slim worked flawlessly compact desi...</td>\n",
       "      <td>5</td>\n",
       "      <td>NaN</td>\n",
       "      <td>Reviewed in the United States on December 11, ...</td>\n",
       "      <td>True</td>\n",
       "    </tr>\n",
       "    <tr>\n",
       "      <th>4</th>\n",
       "      <td>B0CL5KNB9M</td>\n",
       "      <td>works great</td>\n",
       "      <td>turn clean shiny fast load thing astros playro...</td>\n",
       "      <td>5</td>\n",
       "      <td>19 people found this helpful</td>\n",
       "      <td>Reviewed in the United States on November 29, ...</td>\n",
       "      <td>True</td>\n",
       "    </tr>\n",
       "  </tbody>\n",
       "</table>\n",
       "</div>"
      ],
      "text/plain": [
       "         asin                                              title  \\\n",
       "0  B0CL5KNB9M  PlayStation 5  Digital Edition Fortnite Cobalt...   \n",
       "1  B0CL5KNB9M                                      Fives No Jive   \n",
       "2  B0CL5KNB9M                   PlayStation5 Console Slim Review   \n",
       "3  B0CL5KNB9M                         Compact Sleek and Reliable   \n",
       "4  B0CL5KNB9M                                        works great   \n",
       "\n",
       "                                             comment  rate  \\\n",
       "0  recently purchased playstation pro digital edi...     5   \n",
       "1  longtime playstation fan putting getting ps th...     5   \n",
       "2  playstation console slim fantastic evolution o...     5   \n",
       "3  ps digital slim worked flawlessly compact desi...     5   \n",
       "4  turn clean shiny fast load thing astros playro...     5   \n",
       "\n",
       "                   helpful_votes  \\\n",
       "0    6 people found this helpful   \n",
       "1  551 people found this helpful   \n",
       "2   94 people found this helpful   \n",
       "3                            NaN   \n",
       "4   19 people found this helpful   \n",
       "\n",
       "                                         review_date  is_verified_purchase  \n",
       "0  Reviewed in the United States on December 7, 2024                  True  \n",
       "1      Reviewed in the United States on June 8, 2024                  True  \n",
       "2  Reviewed in the United States on November 15, ...                  True  \n",
       "3  Reviewed in the United States on December 11, ...                  True  \n",
       "4  Reviewed in the United States on November 29, ...                  True  "
      ]
     },
     "execution_count": 3,
     "metadata": {},
     "output_type": "execute_result"
    }
   ],
   "source": [
    "# clean reviews content\n",
    "df['comment'] = df['comment'].apply(lambda comment: re.sub(r'<[^>]+>|\\W+|\\d+', ' ', str(comment)).lower())\n",
    "\n",
    "# tokenize comments\n",
    "df['words'] = df['comment'].apply(lambda comment: nltk.word_tokenize(comment))\n",
    "\n",
    "# remove stop words\n",
    "stop_words = set(stopwords.words('english'))\n",
    "df['words'] = df['words'].apply(lambda words: [word for word in words if word not in stop_words])\n",
    "\n",
    "# join words back into a string\n",
    "df['comment'] = df['words'].apply(lambda words: ' '.join(words))\n",
    "df = df.drop(columns=['words'])\n",
    "\n",
    "\n",
    "\n",
    "df.head()"
   ]
  },
  {
   "cell_type": "code",
   "execution_count": 4,
   "metadata": {},
   "outputs": [
    {
     "data": {
      "text/html": [
       "<div>\n",
       "<style scoped>\n",
       "    .dataframe tbody tr th:only-of-type {\n",
       "        vertical-align: middle;\n",
       "    }\n",
       "\n",
       "    .dataframe tbody tr th {\n",
       "        vertical-align: top;\n",
       "    }\n",
       "\n",
       "    .dataframe thead th {\n",
       "        text-align: right;\n",
       "    }\n",
       "</style>\n",
       "<table border=\"1\" class=\"dataframe\">\n",
       "  <thead>\n",
       "    <tr style=\"text-align: right;\">\n",
       "      <th></th>\n",
       "      <th>asin</th>\n",
       "      <th>title</th>\n",
       "      <th>comment</th>\n",
       "      <th>rate</th>\n",
       "      <th>helpful_votes</th>\n",
       "      <th>review_date</th>\n",
       "      <th>is_verified_purchase</th>\n",
       "      <th>positive_score</th>\n",
       "      <th>negative_score</th>\n",
       "      <th>sentiment</th>\n",
       "    </tr>\n",
       "  </thead>\n",
       "  <tbody>\n",
       "    <tr>\n",
       "      <th>0</th>\n",
       "      <td>B0CL5KNB9M</td>\n",
       "      <td>PlayStation 5  Digital Edition Fortnite Cobalt...</td>\n",
       "      <td>recently purchased playstation pro digital edi...</td>\n",
       "      <td>5</td>\n",
       "      <td>6 people found this helpful</td>\n",
       "      <td>Reviewed in the United States on December 7, 2024</td>\n",
       "      <td>True</td>\n",
       "      <td>1.431058</td>\n",
       "      <td>0.10331</td>\n",
       "      <td>positive</td>\n",
       "    </tr>\n",
       "    <tr>\n",
       "      <th>1</th>\n",
       "      <td>B0CL5KNB9M</td>\n",
       "      <td>Fives No Jive</td>\n",
       "      <td>longtime playstation fan putting getting ps th...</td>\n",
       "      <td>5</td>\n",
       "      <td>551 people found this helpful</td>\n",
       "      <td>Reviewed in the United States on June 8, 2024</td>\n",
       "      <td>True</td>\n",
       "      <td>0.533968</td>\n",
       "      <td>0.26036</td>\n",
       "      <td>positive</td>\n",
       "    </tr>\n",
       "    <tr>\n",
       "      <th>2</th>\n",
       "      <td>B0CL5KNB9M</td>\n",
       "      <td>PlayStation5 Console Slim Review</td>\n",
       "      <td>playstation console slim fantastic evolution o...</td>\n",
       "      <td>5</td>\n",
       "      <td>94 people found this helpful</td>\n",
       "      <td>Reviewed in the United States on November 15, ...</td>\n",
       "      <td>True</td>\n",
       "      <td>0.671529</td>\n",
       "      <td>0.00000</td>\n",
       "      <td>positive</td>\n",
       "    </tr>\n",
       "    <tr>\n",
       "      <th>3</th>\n",
       "      <td>B0CL5KNB9M</td>\n",
       "      <td>Compact Sleek and Reliable</td>\n",
       "      <td>ps digital slim worked flawlessly compact desi...</td>\n",
       "      <td>5</td>\n",
       "      <td>NaN</td>\n",
       "      <td>Reviewed in the United States on December 11, ...</td>\n",
       "      <td>True</td>\n",
       "      <td>1.432418</td>\n",
       "      <td>0.00000</td>\n",
       "      <td>positive</td>\n",
       "    </tr>\n",
       "    <tr>\n",
       "      <th>4</th>\n",
       "      <td>B0CL5KNB9M</td>\n",
       "      <td>works great</td>\n",
       "      <td>turn clean shiny fast load thing astros playro...</td>\n",
       "      <td>5</td>\n",
       "      <td>19 people found this helpful</td>\n",
       "      <td>Reviewed in the United States on November 29, ...</td>\n",
       "      <td>True</td>\n",
       "      <td>0.548697</td>\n",
       "      <td>0.29762</td>\n",
       "      <td>positive</td>\n",
       "    </tr>\n",
       "  </tbody>\n",
       "</table>\n",
       "</div>"
      ],
      "text/plain": [
       "         asin                                              title  \\\n",
       "0  B0CL5KNB9M  PlayStation 5  Digital Edition Fortnite Cobalt...   \n",
       "1  B0CL5KNB9M                                      Fives No Jive   \n",
       "2  B0CL5KNB9M                   PlayStation5 Console Slim Review   \n",
       "3  B0CL5KNB9M                         Compact Sleek and Reliable   \n",
       "4  B0CL5KNB9M                                        works great   \n",
       "\n",
       "                                             comment  rate  \\\n",
       "0  recently purchased playstation pro digital edi...     5   \n",
       "1  longtime playstation fan putting getting ps th...     5   \n",
       "2  playstation console slim fantastic evolution o...     5   \n",
       "3  ps digital slim worked flawlessly compact desi...     5   \n",
       "4  turn clean shiny fast load thing astros playro...     5   \n",
       "\n",
       "                   helpful_votes  \\\n",
       "0    6 people found this helpful   \n",
       "1  551 people found this helpful   \n",
       "2   94 people found this helpful   \n",
       "3                            NaN   \n",
       "4   19 people found this helpful   \n",
       "\n",
       "                                         review_date  is_verified_purchase  \\\n",
       "0  Reviewed in the United States on December 7, 2024                  True   \n",
       "1      Reviewed in the United States on June 8, 2024                  True   \n",
       "2  Reviewed in the United States on November 15, ...                  True   \n",
       "3  Reviewed in the United States on December 11, ...                  True   \n",
       "4  Reviewed in the United States on November 29, ...                  True   \n",
       "\n",
       "   positive_score  negative_score sentiment  \n",
       "0        1.431058         0.10331  positive  \n",
       "1        0.533968         0.26036  positive  \n",
       "2        0.671529         0.00000  positive  \n",
       "3        1.432418         0.00000  positive  \n",
       "4        0.548697         0.29762  positive  "
      ]
     },
     "execution_count": 4,
     "metadata": {},
     "output_type": "execute_result"
    }
   ],
   "source": [
    "\n",
    "# tfidf for unigram\n",
    "tfidf = TfidfVectorizer(max_features=2000, ngram_range=(1, 2))\n",
    "rfidf_sparse = tfidf.fit_transform(df['comment'])\n",
    "\n",
    "feature_names = tfidf.get_feature_names_out()\n",
    "\n",
    "\n",
    "positive_words = set(opinion_lexicon.positive())\n",
    "negative_words = set(opinion_lexicon.negative())\n",
    "\n",
    "\n",
    "positive_scores = []\n",
    "negative_scores = []\n",
    "\n",
    "for row in rfidf_sparse.toarray():\n",
    "    positive_score = sum([row[feature_names.tolist().index(word)] for word in positive_words if word in feature_names])\n",
    "    negative_score = sum([row[feature_names.tolist().index(word)] for word in negative_words if  word in feature_names])\n",
    "    positive_scores.append(positive_score)\n",
    "    negative_scores.append(negative_score)\n",
    "\n",
    "df['positive_score'] = positive_scores\n",
    "df['negative_score'] = negative_scores\n",
    "\n",
    "df['sentiment'] = df['positive_score'] - df['negative_score']\n",
    "df['sentiment'] = df['sentiment'].apply(lambda sent: 'positive' if sent > 0 else 'negative' if sent < 0 else 'neutral')\n",
    "\n",
    "# df.drop(columns=['positive_score', 'negative_score'], inplace=True)\n",
    "\n",
    "# df = df[df['rate'] == 3]\n",
    "\n",
    "\n",
    "\n",
    "with open('reviews_labeled.csv', 'w') as f:\n",
    "    f.write(df.to_csv(index=False))\n",
    "\n",
    "\n",
    "df.head()"
   ]
  },
  {
   "cell_type": "code",
   "execution_count": 5,
   "metadata": {},
   "outputs": [],
   "source": [
    "Y = df['sentiment']\n",
    "X = df['comment']\n",
    "\n",
    "X_train, X_test, y_train, y_test = train_test_split(rfidf_sparse, Y, test_size=0.25, random_state=42)"
   ]
  },
  {
   "cell_type": "code",
   "execution_count": 6,
   "metadata": {},
   "outputs": [
    {
     "data": {
      "text/plain": [
       "0.9324324324324325"
      ]
     },
     "execution_count": 6,
     "metadata": {},
     "output_type": "execute_result"
    }
   ],
   "source": [
    "classifier = MultinomialNB()\n",
    "classifier.fit(X_train, y_train)\n",
    "\n",
    "predictions = classifier.predict(X_test)\n",
    "\n",
    "acccuracy = classifier.score(X_test, y_test)\n",
    "acccuracy\n",
    "# print(classification_report(y_test, predictions, zero_division=1))"
   ]
  },
  {
   "cell_type": "code",
   "execution_count": 7,
   "metadata": {},
   "outputs": [
    {
     "data": {
      "text/plain": [
       "0.9459459459459459"
      ]
     },
     "execution_count": 7,
     "metadata": {},
     "output_type": "execute_result"
    }
   ],
   "source": [
    "classifier = RandomForestClassifier()\n",
    "\n",
    "classifier.fit(X_train, y_train)\n",
    "y_pred = classifier.predict(X_test)\n",
    "\n",
    "acccuracy = classifier.score(X_test, y_test)\n",
    "\n",
    "acccuracy"
   ]
  },
  {
   "cell_type": "code",
   "execution_count": 8,
   "metadata": {},
   "outputs": [],
   "source": [
    "def extract_date_from_text(text):\n",
    "    date_pattern = r\"(January|February|March|April|May|June|July|August|September|October|November|December)\\s+(\\d{1,2}),\\s+(\\d{4})\"\n",
    "    date =  re.search(date_pattern, text) \n",
    "    parsed_date = pd.to_datetime(date.group(0))\n",
    "    return parsed_date"
   ]
  },
  {
   "cell_type": "markdown",
   "metadata": {},
   "source": [
    "# Time series"
   ]
  },
  {
   "cell_type": "code",
   "execution_count": 68,
   "metadata": {},
   "outputs": [],
   "source": [
    "df_time_series = df[['review_date','asin', 'positive_score', 'negative_score', 'sentiment']]"
   ]
  },
  {
   "cell_type": "code",
   "execution_count": null,
   "metadata": {},
   "outputs": [],
   "source": [
    "\n",
    "df_time_series['review_date'] = df_time_series['review_date'].apply(extract_date_from_text)\n",
    "\n",
    "df_time_series = df_time_series.sort_values(by='review_date')\n",
    "df_time_series.set_index('review_date', inplace=True)"
   ]
  },
  {
   "cell_type": "code",
   "execution_count": 70,
   "metadata": {},
   "outputs": [
    {
     "data": {
      "application/vnd.plotly.v1+json": {
       "config": {
        "plotlyServerURL": "https://plot.ly"
       },
       "data": [
        {
         "line": {
          "color": "red"
         },
         "name": "Negative count",
         "type": "scatter",
         "x": [
          "2015-12-31T00:00:00",
          "2016-12-31T00:00:00",
          "2017-12-31T00:00:00",
          "2018-12-31T00:00:00",
          "2019-12-31T00:00:00",
          "2020-12-31T00:00:00",
          "2021-12-31T00:00:00",
          "2022-12-31T00:00:00",
          "2023-12-31T00:00:00",
          "2024-12-31T00:00:00"
         ],
         "y": [
          0,
          0,
          0,
          0,
          1,
          0,
          1,
          0,
          3,
          13
         ]
        }
       ],
       "layout": {
        "height": 400,
        "showlegend": true,
        "template": {
         "data": {
          "bar": [
           {
            "error_x": {
             "color": "#f2f5fa"
            },
            "error_y": {
             "color": "#f2f5fa"
            },
            "marker": {
             "line": {
              "color": "rgb(17,17,17)",
              "width": 0.5
             },
             "pattern": {
              "fillmode": "overlay",
              "size": 10,
              "solidity": 0.2
             }
            },
            "type": "bar"
           }
          ],
          "barpolar": [
           {
            "marker": {
             "line": {
              "color": "rgb(17,17,17)",
              "width": 0.5
             },
             "pattern": {
              "fillmode": "overlay",
              "size": 10,
              "solidity": 0.2
             }
            },
            "type": "barpolar"
           }
          ],
          "carpet": [
           {
            "aaxis": {
             "endlinecolor": "#A2B1C6",
             "gridcolor": "#506784",
             "linecolor": "#506784",
             "minorgridcolor": "#506784",
             "startlinecolor": "#A2B1C6"
            },
            "baxis": {
             "endlinecolor": "#A2B1C6",
             "gridcolor": "#506784",
             "linecolor": "#506784",
             "minorgridcolor": "#506784",
             "startlinecolor": "#A2B1C6"
            },
            "type": "carpet"
           }
          ],
          "choropleth": [
           {
            "colorbar": {
             "outlinewidth": 0,
             "ticks": ""
            },
            "type": "choropleth"
           }
          ],
          "contour": [
           {
            "colorbar": {
             "outlinewidth": 0,
             "ticks": ""
            },
            "colorscale": [
             [
              0,
              "#0d0887"
             ],
             [
              0.1111111111111111,
              "#46039f"
             ],
             [
              0.2222222222222222,
              "#7201a8"
             ],
             [
              0.3333333333333333,
              "#9c179e"
             ],
             [
              0.4444444444444444,
              "#bd3786"
             ],
             [
              0.5555555555555556,
              "#d8576b"
             ],
             [
              0.6666666666666666,
              "#ed7953"
             ],
             [
              0.7777777777777778,
              "#fb9f3a"
             ],
             [
              0.8888888888888888,
              "#fdca26"
             ],
             [
              1,
              "#f0f921"
             ]
            ],
            "type": "contour"
           }
          ],
          "contourcarpet": [
           {
            "colorbar": {
             "outlinewidth": 0,
             "ticks": ""
            },
            "type": "contourcarpet"
           }
          ],
          "heatmap": [
           {
            "colorbar": {
             "outlinewidth": 0,
             "ticks": ""
            },
            "colorscale": [
             [
              0,
              "#0d0887"
             ],
             [
              0.1111111111111111,
              "#46039f"
             ],
             [
              0.2222222222222222,
              "#7201a8"
             ],
             [
              0.3333333333333333,
              "#9c179e"
             ],
             [
              0.4444444444444444,
              "#bd3786"
             ],
             [
              0.5555555555555556,
              "#d8576b"
             ],
             [
              0.6666666666666666,
              "#ed7953"
             ],
             [
              0.7777777777777778,
              "#fb9f3a"
             ],
             [
              0.8888888888888888,
              "#fdca26"
             ],
             [
              1,
              "#f0f921"
             ]
            ],
            "type": "heatmap"
           }
          ],
          "heatmapgl": [
           {
            "colorbar": {
             "outlinewidth": 0,
             "ticks": ""
            },
            "colorscale": [
             [
              0,
              "#0d0887"
             ],
             [
              0.1111111111111111,
              "#46039f"
             ],
             [
              0.2222222222222222,
              "#7201a8"
             ],
             [
              0.3333333333333333,
              "#9c179e"
             ],
             [
              0.4444444444444444,
              "#bd3786"
             ],
             [
              0.5555555555555556,
              "#d8576b"
             ],
             [
              0.6666666666666666,
              "#ed7953"
             ],
             [
              0.7777777777777778,
              "#fb9f3a"
             ],
             [
              0.8888888888888888,
              "#fdca26"
             ],
             [
              1,
              "#f0f921"
             ]
            ],
            "type": "heatmapgl"
           }
          ],
          "histogram": [
           {
            "marker": {
             "pattern": {
              "fillmode": "overlay",
              "size": 10,
              "solidity": 0.2
             }
            },
            "type": "histogram"
           }
          ],
          "histogram2d": [
           {
            "colorbar": {
             "outlinewidth": 0,
             "ticks": ""
            },
            "colorscale": [
             [
              0,
              "#0d0887"
             ],
             [
              0.1111111111111111,
              "#46039f"
             ],
             [
              0.2222222222222222,
              "#7201a8"
             ],
             [
              0.3333333333333333,
              "#9c179e"
             ],
             [
              0.4444444444444444,
              "#bd3786"
             ],
             [
              0.5555555555555556,
              "#d8576b"
             ],
             [
              0.6666666666666666,
              "#ed7953"
             ],
             [
              0.7777777777777778,
              "#fb9f3a"
             ],
             [
              0.8888888888888888,
              "#fdca26"
             ],
             [
              1,
              "#f0f921"
             ]
            ],
            "type": "histogram2d"
           }
          ],
          "histogram2dcontour": [
           {
            "colorbar": {
             "outlinewidth": 0,
             "ticks": ""
            },
            "colorscale": [
             [
              0,
              "#0d0887"
             ],
             [
              0.1111111111111111,
              "#46039f"
             ],
             [
              0.2222222222222222,
              "#7201a8"
             ],
             [
              0.3333333333333333,
              "#9c179e"
             ],
             [
              0.4444444444444444,
              "#bd3786"
             ],
             [
              0.5555555555555556,
              "#d8576b"
             ],
             [
              0.6666666666666666,
              "#ed7953"
             ],
             [
              0.7777777777777778,
              "#fb9f3a"
             ],
             [
              0.8888888888888888,
              "#fdca26"
             ],
             [
              1,
              "#f0f921"
             ]
            ],
            "type": "histogram2dcontour"
           }
          ],
          "mesh3d": [
           {
            "colorbar": {
             "outlinewidth": 0,
             "ticks": ""
            },
            "type": "mesh3d"
           }
          ],
          "parcoords": [
           {
            "line": {
             "colorbar": {
              "outlinewidth": 0,
              "ticks": ""
             }
            },
            "type": "parcoords"
           }
          ],
          "pie": [
           {
            "automargin": true,
            "type": "pie"
           }
          ],
          "scatter": [
           {
            "marker": {
             "line": {
              "color": "#283442"
             }
            },
            "type": "scatter"
           }
          ],
          "scatter3d": [
           {
            "line": {
             "colorbar": {
              "outlinewidth": 0,
              "ticks": ""
             }
            },
            "marker": {
             "colorbar": {
              "outlinewidth": 0,
              "ticks": ""
             }
            },
            "type": "scatter3d"
           }
          ],
          "scattercarpet": [
           {
            "marker": {
             "colorbar": {
              "outlinewidth": 0,
              "ticks": ""
             }
            },
            "type": "scattercarpet"
           }
          ],
          "scattergeo": [
           {
            "marker": {
             "colorbar": {
              "outlinewidth": 0,
              "ticks": ""
             }
            },
            "type": "scattergeo"
           }
          ],
          "scattergl": [
           {
            "marker": {
             "line": {
              "color": "#283442"
             }
            },
            "type": "scattergl"
           }
          ],
          "scattermapbox": [
           {
            "marker": {
             "colorbar": {
              "outlinewidth": 0,
              "ticks": ""
             }
            },
            "type": "scattermapbox"
           }
          ],
          "scatterpolar": [
           {
            "marker": {
             "colorbar": {
              "outlinewidth": 0,
              "ticks": ""
             }
            },
            "type": "scatterpolar"
           }
          ],
          "scatterpolargl": [
           {
            "marker": {
             "colorbar": {
              "outlinewidth": 0,
              "ticks": ""
             }
            },
            "type": "scatterpolargl"
           }
          ],
          "scatterternary": [
           {
            "marker": {
             "colorbar": {
              "outlinewidth": 0,
              "ticks": ""
             }
            },
            "type": "scatterternary"
           }
          ],
          "surface": [
           {
            "colorbar": {
             "outlinewidth": 0,
             "ticks": ""
            },
            "colorscale": [
             [
              0,
              "#0d0887"
             ],
             [
              0.1111111111111111,
              "#46039f"
             ],
             [
              0.2222222222222222,
              "#7201a8"
             ],
             [
              0.3333333333333333,
              "#9c179e"
             ],
             [
              0.4444444444444444,
              "#bd3786"
             ],
             [
              0.5555555555555556,
              "#d8576b"
             ],
             [
              0.6666666666666666,
              "#ed7953"
             ],
             [
              0.7777777777777778,
              "#fb9f3a"
             ],
             [
              0.8888888888888888,
              "#fdca26"
             ],
             [
              1,
              "#f0f921"
             ]
            ],
            "type": "surface"
           }
          ],
          "table": [
           {
            "cells": {
             "fill": {
              "color": "#506784"
             },
             "line": {
              "color": "rgb(17,17,17)"
             }
            },
            "header": {
             "fill": {
              "color": "#2a3f5f"
             },
             "line": {
              "color": "rgb(17,17,17)"
             }
            },
            "type": "table"
           }
          ]
         },
         "layout": {
          "annotationdefaults": {
           "arrowcolor": "#f2f5fa",
           "arrowhead": 0,
           "arrowwidth": 1
          },
          "autotypenumbers": "strict",
          "coloraxis": {
           "colorbar": {
            "outlinewidth": 0,
            "ticks": ""
           }
          },
          "colorscale": {
           "diverging": [
            [
             0,
             "#8e0152"
            ],
            [
             0.1,
             "#c51b7d"
            ],
            [
             0.2,
             "#de77ae"
            ],
            [
             0.3,
             "#f1b6da"
            ],
            [
             0.4,
             "#fde0ef"
            ],
            [
             0.5,
             "#f7f7f7"
            ],
            [
             0.6,
             "#e6f5d0"
            ],
            [
             0.7,
             "#b8e186"
            ],
            [
             0.8,
             "#7fbc41"
            ],
            [
             0.9,
             "#4d9221"
            ],
            [
             1,
             "#276419"
            ]
           ],
           "sequential": [
            [
             0,
             "#0d0887"
            ],
            [
             0.1111111111111111,
             "#46039f"
            ],
            [
             0.2222222222222222,
             "#7201a8"
            ],
            [
             0.3333333333333333,
             "#9c179e"
            ],
            [
             0.4444444444444444,
             "#bd3786"
            ],
            [
             0.5555555555555556,
             "#d8576b"
            ],
            [
             0.6666666666666666,
             "#ed7953"
            ],
            [
             0.7777777777777778,
             "#fb9f3a"
            ],
            [
             0.8888888888888888,
             "#fdca26"
            ],
            [
             1,
             "#f0f921"
            ]
           ],
           "sequentialminus": [
            [
             0,
             "#0d0887"
            ],
            [
             0.1111111111111111,
             "#46039f"
            ],
            [
             0.2222222222222222,
             "#7201a8"
            ],
            [
             0.3333333333333333,
             "#9c179e"
            ],
            [
             0.4444444444444444,
             "#bd3786"
            ],
            [
             0.5555555555555556,
             "#d8576b"
            ],
            [
             0.6666666666666666,
             "#ed7953"
            ],
            [
             0.7777777777777778,
             "#fb9f3a"
            ],
            [
             0.8888888888888888,
             "#fdca26"
            ],
            [
             1,
             "#f0f921"
            ]
           ]
          },
          "colorway": [
           "#636efa",
           "#EF553B",
           "#00cc96",
           "#ab63fa",
           "#FFA15A",
           "#19d3f3",
           "#FF6692",
           "#B6E880",
           "#FF97FF",
           "#FECB52"
          ],
          "font": {
           "color": "#f2f5fa"
          },
          "geo": {
           "bgcolor": "rgb(17,17,17)",
           "lakecolor": "rgb(17,17,17)",
           "landcolor": "rgb(17,17,17)",
           "showlakes": true,
           "showland": true,
           "subunitcolor": "#506784"
          },
          "hoverlabel": {
           "align": "left"
          },
          "hovermode": "closest",
          "mapbox": {
           "style": "dark"
          },
          "paper_bgcolor": "rgb(17,17,17)",
          "plot_bgcolor": "rgb(17,17,17)",
          "polar": {
           "angularaxis": {
            "gridcolor": "#506784",
            "linecolor": "#506784",
            "ticks": ""
           },
           "bgcolor": "rgb(17,17,17)",
           "radialaxis": {
            "gridcolor": "#506784",
            "linecolor": "#506784",
            "ticks": ""
           }
          },
          "scene": {
           "xaxis": {
            "backgroundcolor": "rgb(17,17,17)",
            "gridcolor": "#506784",
            "gridwidth": 2,
            "linecolor": "#506784",
            "showbackground": true,
            "ticks": "",
            "zerolinecolor": "#C8D4E3"
           },
           "yaxis": {
            "backgroundcolor": "rgb(17,17,17)",
            "gridcolor": "#506784",
            "gridwidth": 2,
            "linecolor": "#506784",
            "showbackground": true,
            "ticks": "",
            "zerolinecolor": "#C8D4E3"
           },
           "zaxis": {
            "backgroundcolor": "rgb(17,17,17)",
            "gridcolor": "#506784",
            "gridwidth": 2,
            "linecolor": "#506784",
            "showbackground": true,
            "ticks": "",
            "zerolinecolor": "#C8D4E3"
           }
          },
          "shapedefaults": {
           "line": {
            "color": "#f2f5fa"
           }
          },
          "sliderdefaults": {
           "bgcolor": "#C8D4E3",
           "bordercolor": "rgb(17,17,17)",
           "borderwidth": 1,
           "tickwidth": 0
          },
          "ternary": {
           "aaxis": {
            "gridcolor": "#506784",
            "linecolor": "#506784",
            "ticks": ""
           },
           "baxis": {
            "gridcolor": "#506784",
            "linecolor": "#506784",
            "ticks": ""
           },
           "bgcolor": "rgb(17,17,17)",
           "caxis": {
            "gridcolor": "#506784",
            "linecolor": "#506784",
            "ticks": ""
           }
          },
          "title": {
           "x": 0.05
          },
          "updatemenudefaults": {
           "bgcolor": "#506784",
           "borderwidth": 0
          },
          "xaxis": {
           "automargin": true,
           "gridcolor": "#283442",
           "linecolor": "#506784",
           "ticks": "",
           "title": {
            "standoff": 15
           },
           "zerolinecolor": "#283442",
           "zerolinewidth": 2
          },
          "yaxis": {
           "automargin": true,
           "gridcolor": "#283442",
           "linecolor": "#506784",
           "ticks": "",
           "title": {
            "standoff": 15
           },
           "zerolinecolor": "#283442",
           "zerolinewidth": 2
          }
         }
        },
        "title": {
         "text": "Negative Over Time"
        },
        "width": 800,
        "xaxis": {
         "title": {
          "text": "Year"
         }
        },
        "yaxis": {
         "title": {
          "text": "Score"
         }
        }
       }
      }
     },
     "metadata": {},
     "output_type": "display_data"
    }
   ],
   "source": [
    "\n",
    "month_df = df_time_series.resample('YE').agg({\n",
    "    'positive_score': 'mean',\n",
    "    'negative_score': 'mean',\n",
    "    'sentiment': lambda x: (x == 'negative').sum()\n",
    "})\n",
    "\n",
    "fig = go.Figure()\n",
    "\n",
    "fig.add_trace(go.Scatter(\n",
    "    x=month_df.index,\n",
    "    y=month_df['sentiment'],\n",
    "    name='Negative count',\n",
    "    line=dict(color='red')\n",
    "))\n",
    "\n",
    "\n",
    "fig.update_layout(\n",
    "    title='Negative Over Time',\n",
    "    xaxis_title='Year',\n",
    "    yaxis_title='Score',\n",
    "    showlegend=True,\n",
    "    width=800,\n",
    "    height=400,\n",
    "    template='plotly_dark'\n",
    ")\n",
    "\n",
    "\n",
    "\n",
    "fig.show()"
   ]
  }
 ],
 "metadata": {
  "kernelspec": {
   "display_name": ".venv",
   "language": "python",
   "name": "python3"
  },
  "language_info": {
   "codemirror_mode": {
    "name": "ipython",
    "version": 3
   },
   "file_extension": ".py",
   "mimetype": "text/x-python",
   "name": "python",
   "nbconvert_exporter": "python",
   "pygments_lexer": "ipython3",
   "version": "3.12.8"
  }
 },
 "nbformat": 4,
 "nbformat_minor": 2
}
