{
 "cells": [
  {
   "cell_type": "code",
   "execution_count": 1,
   "id": "1e3299f7-2fab-4802-bbf4-eb804f35f8e8",
   "metadata": {},
   "outputs": [],
   "source": [
    "import pandas as pd"
   ]
  },
  {
   "cell_type": "code",
   "execution_count": 2,
   "id": "a62d06b1-05ea-4697-95df-a15bf67a4e47",
   "metadata": {},
   "outputs": [],
   "source": [
    "df = pd.read_csv(\"C:/Users/Lenovo/Desktop/ds_tools_api/ml/reviews_labeled.csv\", encoding='ISO-8859-1')  # or 'latin1'"
   ]
  },
  {
   "cell_type": "code",
   "execution_count": 3,
   "id": "05dd8ddd-c580-4caf-9e5c-b68e3235e4df",
   "metadata": {},
   "outputs": [
    {
     "data": {
      "text/html": [
       "<div>\n",
       "<style scoped>\n",
       "    .dataframe tbody tr th:only-of-type {\n",
       "        vertical-align: middle;\n",
       "    }\n",
       "\n",
       "    .dataframe tbody tr th {\n",
       "        vertical-align: top;\n",
       "    }\n",
       "\n",
       "    .dataframe thead th {\n",
       "        text-align: right;\n",
       "    }\n",
       "</style>\n",
       "<table border=\"1\" class=\"dataframe\">\n",
       "  <thead>\n",
       "    <tr style=\"text-align: right;\">\n",
       "      <th></th>\n",
       "      <th>asin</th>\n",
       "      <th>title</th>\n",
       "      <th>comment</th>\n",
       "      <th>rate</th>\n",
       "      <th>helpful_votes</th>\n",
       "      <th>review_date</th>\n",
       "      <th>is_verified_purchase</th>\n",
       "      <th>positive_score</th>\n",
       "      <th>negative_score</th>\n",
       "      <th>sentiment</th>\n",
       "    </tr>\n",
       "  </thead>\n",
       "  <tbody>\n",
       "    <tr>\n",
       "      <th>0</th>\n",
       "      <td>B0CL5KNB9M</td>\n",
       "      <td>PlayStation 5  Digital Edition Fortnite Cobalt...</td>\n",
       "      <td>recently purchased playstation pro digital edi...</td>\n",
       "      <td>5</td>\n",
       "      <td>6 people found this helpful</td>\n",
       "      <td>Reviewed in the United States on December 7, 2024</td>\n",
       "      <td>True</td>\n",
       "      <td>1.491977</td>\n",
       "      <td>0.091272</td>\n",
       "      <td>positive</td>\n",
       "    </tr>\n",
       "    <tr>\n",
       "      <th>1</th>\n",
       "      <td>B0CL5KNB9M</td>\n",
       "      <td>Fives No Jive</td>\n",
       "      <td>longtime playstation fan putting getting ps th...</td>\n",
       "      <td>5</td>\n",
       "      <td>551 people found this helpful</td>\n",
       "      <td>Reviewed in the United States on June 8, 2024</td>\n",
       "      <td>True</td>\n",
       "      <td>0.566011</td>\n",
       "      <td>0.305461</td>\n",
       "      <td>positive</td>\n",
       "    </tr>\n",
       "    <tr>\n",
       "      <th>2</th>\n",
       "      <td>B0CL5KNB9M</td>\n",
       "      <td>PlayStation5 Console Slim Review</td>\n",
       "      <td>playstation console slim fantastic evolution o...</td>\n",
       "      <td>5</td>\n",
       "      <td>94 people found this helpful</td>\n",
       "      <td>Reviewed in the United States on November 15, ...</td>\n",
       "      <td>True</td>\n",
       "      <td>0.845969</td>\n",
       "      <td>0.000000</td>\n",
       "      <td>positive</td>\n",
       "    </tr>\n",
       "    <tr>\n",
       "      <th>3</th>\n",
       "      <td>B0CL5KNB9M</td>\n",
       "      <td>Compact Sleek and Reliable</td>\n",
       "      <td>ps digital slim worked flawlessly compact desi...</td>\n",
       "      <td>5</td>\n",
       "      <td>NaN</td>\n",
       "      <td>Reviewed in the United States on December 11, ...</td>\n",
       "      <td>True</td>\n",
       "      <td>1.229438</td>\n",
       "      <td>0.000000</td>\n",
       "      <td>positive</td>\n",
       "    </tr>\n",
       "    <tr>\n",
       "      <th>4</th>\n",
       "      <td>B0CL5KNB9M</td>\n",
       "      <td>works great</td>\n",
       "      <td>turn clean shiny fast load thing astros playro...</td>\n",
       "      <td>5</td>\n",
       "      <td>19 people found this helpful</td>\n",
       "      <td>Reviewed in the United States on November 29, ...</td>\n",
       "      <td>True</td>\n",
       "      <td>0.560571</td>\n",
       "      <td>0.320713</td>\n",
       "      <td>positive</td>\n",
       "    </tr>\n",
       "  </tbody>\n",
       "</table>\n",
       "</div>"
      ],
      "text/plain": [
       "         asin                                              title  \\\n",
       "0  B0CL5KNB9M  PlayStation 5  Digital Edition Fortnite Cobalt...   \n",
       "1  B0CL5KNB9M                                      Fives No Jive   \n",
       "2  B0CL5KNB9M                   PlayStation5 Console Slim Review   \n",
       "3  B0CL5KNB9M                         Compact Sleek and Reliable   \n",
       "4  B0CL5KNB9M                                        works great   \n",
       "\n",
       "                                             comment  rate  \\\n",
       "0  recently purchased playstation pro digital edi...     5   \n",
       "1  longtime playstation fan putting getting ps th...     5   \n",
       "2  playstation console slim fantastic evolution o...     5   \n",
       "3  ps digital slim worked flawlessly compact desi...     5   \n",
       "4  turn clean shiny fast load thing astros playro...     5   \n",
       "\n",
       "                   helpful_votes  \\\n",
       "0    6 people found this helpful   \n",
       "1  551 people found this helpful   \n",
       "2   94 people found this helpful   \n",
       "3                            NaN   \n",
       "4   19 people found this helpful   \n",
       "\n",
       "                                         review_date  is_verified_purchase  \\\n",
       "0  Reviewed in the United States on December 7, 2024                  True   \n",
       "1      Reviewed in the United States on June 8, 2024                  True   \n",
       "2  Reviewed in the United States on November 15, ...                  True   \n",
       "3  Reviewed in the United States on December 11, ...                  True   \n",
       "4  Reviewed in the United States on November 29, ...                  True   \n",
       "\n",
       "   positive_score  negative_score sentiment  \n",
       "0        1.491977        0.091272  positive  \n",
       "1        0.566011        0.305461  positive  \n",
       "2        0.845969        0.000000  positive  \n",
       "3        1.229438        0.000000  positive  \n",
       "4        0.560571        0.320713  positive  "
      ]
     },
     "execution_count": 3,
     "metadata": {},
     "output_type": "execute_result"
    }
   ],
   "source": [
    "df.head()"
   ]
  },
  {
   "cell_type": "code",
   "execution_count": 4,
   "id": "7537381e",
   "metadata": {},
   "outputs": [
    {
     "name": "stdout",
     "output_type": "stream",
     "text": [
      "Requirement already satisfied: nltk in c:\\users\\lenovo\\desktop\\ds_tools_api\\.venv\\lib\\site-packages (3.9.1)\n",
      "Requirement already satisfied: click in c:\\users\\lenovo\\desktop\\ds_tools_api\\.venv\\lib\\site-packages (from nltk) (8.1.7)\n",
      "Requirement already satisfied: joblib in c:\\users\\lenovo\\desktop\\ds_tools_api\\.venv\\lib\\site-packages (from nltk) (1.4.2)\n",
      "Requirement already satisfied: regex>=2021.8.3 in c:\\users\\lenovo\\desktop\\ds_tools_api\\.venv\\lib\\site-packages (from nltk) (2024.11.6)\n",
      "Requirement already satisfied: tqdm in c:\\users\\lenovo\\desktop\\ds_tools_api\\.venv\\lib\\site-packages (from nltk) (4.67.1)\n",
      "Requirement already satisfied: colorama in c:\\users\\lenovo\\desktop\\ds_tools_api\\.venv\\lib\\site-packages (from click->nltk) (0.4.6)\n",
      "Note: you may need to restart the kernel to use updated packages.\n"
     ]
    }
   ],
   "source": [
    "pip install nltk"
   ]
  },
  {
   "cell_type": "code",
   "execution_count": 5,
   "id": "9db3f32c-0585-4383-a65d-5d93ac38dd3b",
   "metadata": {},
   "outputs": [
    {
     "name": "stderr",
     "output_type": "stream",
     "text": [
      "[nltk_data] Downloading package stopwords to\n",
      "[nltk_data]     C:\\Users\\Lenovo\\AppData\\Roaming\\nltk_data...\n",
      "[nltk_data]   Package stopwords is already up-to-date!\n",
      "[nltk_data] Downloading package vader_lexicon to\n",
      "[nltk_data]     C:\\Users\\Lenovo\\AppData\\Roaming\\nltk_data...\n",
      "[nltk_data]   Package vader_lexicon is already up-to-date!\n"
     ]
    },
    {
     "data": {
      "text/plain": [
       "True"
      ]
     },
     "execution_count": 5,
     "metadata": {},
     "output_type": "execute_result"
    }
   ],
   "source": [
    "import pandas as pd\n",
    "import re\n",
    "from nltk.corpus import stopwords\n",
    "from nltk.sentiment import SentimentIntensityAnalyzer\n",
    "import nltk\n",
    "\n",
    "# Download required resources\n",
    "nltk.download('stopwords')\n",
    "nltk.download('vader_lexicon')"
   ]
  },
  {
   "cell_type": "code",
   "execution_count": 6,
   "id": "f753da5c-ff8f-4a81-9aa2-0bc9e8aa9acc",
   "metadata": {},
   "outputs": [],
   "source": [
    "import pandas as pd\n",
    "from datetime import datetime"
   ]
  },
  {
   "cell_type": "code",
   "execution_count": 7,
   "id": "f344f305-caa7-4e41-ae26-bf5edd5452e1",
   "metadata": {},
   "outputs": [],
   "source": [
    "# Regex to extract the date part from the string\n",
    "df['extracted_date'] = df['review_date'].str.extract(r'on (.+)$')"
   ]
  },
  {
   "cell_type": "code",
   "execution_count": 8,
   "id": "53cc3abc-7b5c-442c-ab15-d05925e85248",
   "metadata": {},
   "outputs": [],
   "source": [
    "# Convert extracted date to datetime format\n",
    "df['timestamp'] = pd.to_datetime(df['extracted_date'])"
   ]
  },
  {
   "cell_type": "code",
   "execution_count": 9,
   "id": "c409993c-2271-46a4-8fe0-22710b1720e0",
   "metadata": {},
   "outputs": [
    {
     "data": {
      "text/html": [
       "<div>\n",
       "<style scoped>\n",
       "    .dataframe tbody tr th:only-of-type {\n",
       "        vertical-align: middle;\n",
       "    }\n",
       "\n",
       "    .dataframe tbody tr th {\n",
       "        vertical-align: top;\n",
       "    }\n",
       "\n",
       "    .dataframe thead th {\n",
       "        text-align: right;\n",
       "    }\n",
       "</style>\n",
       "<table border=\"1\" class=\"dataframe\">\n",
       "  <thead>\n",
       "    <tr style=\"text-align: right;\">\n",
       "      <th></th>\n",
       "      <th>asin</th>\n",
       "      <th>title</th>\n",
       "      <th>comment</th>\n",
       "      <th>rate</th>\n",
       "      <th>helpful_votes</th>\n",
       "      <th>review_date</th>\n",
       "      <th>is_verified_purchase</th>\n",
       "      <th>positive_score</th>\n",
       "      <th>negative_score</th>\n",
       "      <th>sentiment</th>\n",
       "      <th>extracted_date</th>\n",
       "      <th>timestamp</th>\n",
       "    </tr>\n",
       "  </thead>\n",
       "  <tbody>\n",
       "    <tr>\n",
       "      <th>0</th>\n",
       "      <td>B0CL5KNB9M</td>\n",
       "      <td>PlayStation 5  Digital Edition Fortnite Cobalt...</td>\n",
       "      <td>recently purchased playstation pro digital edi...</td>\n",
       "      <td>5</td>\n",
       "      <td>6 people found this helpful</td>\n",
       "      <td>Reviewed in the United States on December 7, 2024</td>\n",
       "      <td>True</td>\n",
       "      <td>1.491977</td>\n",
       "      <td>0.091272</td>\n",
       "      <td>positive</td>\n",
       "      <td>December 7, 2024</td>\n",
       "      <td>2024-12-07</td>\n",
       "    </tr>\n",
       "    <tr>\n",
       "      <th>1</th>\n",
       "      <td>B0CL5KNB9M</td>\n",
       "      <td>Fives No Jive</td>\n",
       "      <td>longtime playstation fan putting getting ps th...</td>\n",
       "      <td>5</td>\n",
       "      <td>551 people found this helpful</td>\n",
       "      <td>Reviewed in the United States on June 8, 2024</td>\n",
       "      <td>True</td>\n",
       "      <td>0.566011</td>\n",
       "      <td>0.305461</td>\n",
       "      <td>positive</td>\n",
       "      <td>June 8, 2024</td>\n",
       "      <td>2024-06-08</td>\n",
       "    </tr>\n",
       "    <tr>\n",
       "      <th>2</th>\n",
       "      <td>B0CL5KNB9M</td>\n",
       "      <td>PlayStation5 Console Slim Review</td>\n",
       "      <td>playstation console slim fantastic evolution o...</td>\n",
       "      <td>5</td>\n",
       "      <td>94 people found this helpful</td>\n",
       "      <td>Reviewed in the United States on November 15, ...</td>\n",
       "      <td>True</td>\n",
       "      <td>0.845969</td>\n",
       "      <td>0.000000</td>\n",
       "      <td>positive</td>\n",
       "      <td>November 15, 2024</td>\n",
       "      <td>2024-11-15</td>\n",
       "    </tr>\n",
       "    <tr>\n",
       "      <th>3</th>\n",
       "      <td>B0CL5KNB9M</td>\n",
       "      <td>Compact Sleek and Reliable</td>\n",
       "      <td>ps digital slim worked flawlessly compact desi...</td>\n",
       "      <td>5</td>\n",
       "      <td>NaN</td>\n",
       "      <td>Reviewed in the United States on December 11, ...</td>\n",
       "      <td>True</td>\n",
       "      <td>1.229438</td>\n",
       "      <td>0.000000</td>\n",
       "      <td>positive</td>\n",
       "      <td>December 11, 2024</td>\n",
       "      <td>2024-12-11</td>\n",
       "    </tr>\n",
       "    <tr>\n",
       "      <th>4</th>\n",
       "      <td>B0CL5KNB9M</td>\n",
       "      <td>works great</td>\n",
       "      <td>turn clean shiny fast load thing astros playro...</td>\n",
       "      <td>5</td>\n",
       "      <td>19 people found this helpful</td>\n",
       "      <td>Reviewed in the United States on November 29, ...</td>\n",
       "      <td>True</td>\n",
       "      <td>0.560571</td>\n",
       "      <td>0.320713</td>\n",
       "      <td>positive</td>\n",
       "      <td>November 29, 2024</td>\n",
       "      <td>2024-11-29</td>\n",
       "    </tr>\n",
       "  </tbody>\n",
       "</table>\n",
       "</div>"
      ],
      "text/plain": [
       "         asin                                              title  \\\n",
       "0  B0CL5KNB9M  PlayStation 5  Digital Edition Fortnite Cobalt...   \n",
       "1  B0CL5KNB9M                                      Fives No Jive   \n",
       "2  B0CL5KNB9M                   PlayStation5 Console Slim Review   \n",
       "3  B0CL5KNB9M                         Compact Sleek and Reliable   \n",
       "4  B0CL5KNB9M                                        works great   \n",
       "\n",
       "                                             comment  rate  \\\n",
       "0  recently purchased playstation pro digital edi...     5   \n",
       "1  longtime playstation fan putting getting ps th...     5   \n",
       "2  playstation console slim fantastic evolution o...     5   \n",
       "3  ps digital slim worked flawlessly compact desi...     5   \n",
       "4  turn clean shiny fast load thing astros playro...     5   \n",
       "\n",
       "                   helpful_votes  \\\n",
       "0    6 people found this helpful   \n",
       "1  551 people found this helpful   \n",
       "2   94 people found this helpful   \n",
       "3                            NaN   \n",
       "4   19 people found this helpful   \n",
       "\n",
       "                                         review_date  is_verified_purchase  \\\n",
       "0  Reviewed in the United States on December 7, 2024                  True   \n",
       "1      Reviewed in the United States on June 8, 2024                  True   \n",
       "2  Reviewed in the United States on November 15, ...                  True   \n",
       "3  Reviewed in the United States on December 11, ...                  True   \n",
       "4  Reviewed in the United States on November 29, ...                  True   \n",
       "\n",
       "   positive_score  negative_score sentiment     extracted_date  timestamp  \n",
       "0        1.491977        0.091272  positive   December 7, 2024 2024-12-07  \n",
       "1        0.566011        0.305461  positive       June 8, 2024 2024-06-08  \n",
       "2        0.845969        0.000000  positive  November 15, 2024 2024-11-15  \n",
       "3        1.229438        0.000000  positive  December 11, 2024 2024-12-11  \n",
       "4        0.560571        0.320713  positive  November 29, 2024 2024-11-29  "
      ]
     },
     "execution_count": 9,
     "metadata": {},
     "output_type": "execute_result"
    }
   ],
   "source": [
    "df.head()"
   ]
  },
  {
   "cell_type": "code",
   "execution_count": 10,
   "id": "8a311c07-b78c-4ae3-b135-8cb637da5eb3",
   "metadata": {},
   "outputs": [
    {
     "name": "stdout",
     "output_type": "stream",
     "text": [
      "0      2024-12-07\n",
      "1      2024-06-08\n",
      "2      2024-11-15\n",
      "3      2024-12-11\n",
      "4      2024-11-29\n",
      "          ...    \n",
      "2041   2019-06-20\n",
      "2042   2018-07-15\n",
      "2043   2017-08-05\n",
      "2044   2016-09-01\n",
      "2045   2020-10-25\n",
      "Name: timestamp, Length: 2046, dtype: datetime64[ns]\n"
     ]
    }
   ],
   "source": [
    "if 'timestamp' in df.columns:\n",
    "    print(df['timestamp'])\n",
    "else:\n",
    "    print(\"Column 'timestamp' does not exist.\")"
   ]
  },
  {
   "cell_type": "code",
   "execution_count": 11,
   "id": "2de43dbc",
   "metadata": {},
   "outputs": [
    {
     "data": {
      "text/plain": [
       "asin                            object\n",
       "title                           object\n",
       "comment                         object\n",
       "rate                             int64\n",
       "helpful_votes                   object\n",
       "review_date                     object\n",
       "is_verified_purchase              bool\n",
       "positive_score                 float64\n",
       "negative_score                 float64\n",
       "sentiment                       object\n",
       "extracted_date                  object\n",
       "timestamp               datetime64[ns]\n",
       "dtype: object"
      ]
     },
     "execution_count": 11,
     "metadata": {},
     "output_type": "execute_result"
    }
   ],
   "source": [
    "df.dtypes"
   ]
  },
  {
   "cell_type": "code",
   "execution_count": 12,
   "id": "a82b6fab-e2b7-4a36-83ef-9ba6b75917c6",
   "metadata": {},
   "outputs": [],
   "source": [
    "from datetime import datetime\n",
    "df['timestamp'] = pd.to_datetime(df['timestamp'])"
   ]
  },
  {
   "cell_type": "code",
   "execution_count": 13,
   "id": "88f947f1-9db9-432e-b492-068580c3eb3f",
   "metadata": {},
   "outputs": [
    {
     "name": "stderr",
     "output_type": "stream",
     "text": [
      "[nltk_data] Downloading package stopwords to\n",
      "[nltk_data]     C:\\Users\\Lenovo\\AppData\\Roaming\\nltk_data...\n",
      "[nltk_data]   Package stopwords is already up-to-date!\n"
     ]
    },
    {
     "name": "stdout",
     "output_type": "stream",
     "text": [
      "Columns in the DataFrame: Index(['asin', 'title', 'comment', 'rate', 'helpful_votes', 'review_date',\n",
      "       'is_verified_purchase', 'positive_score', 'negative_score', 'sentiment',\n",
      "       'extracted_date', 'timestamp'],\n",
      "      dtype='object')\n",
      "Columns after cleaning: Index(['asin', 'title', 'comment', 'rate', 'helpful_votes', 'review_date',\n",
      "       'is_verified_purchase', 'positive_score', 'negative_score', 'sentiment',\n",
      "       'extracted_date', 'timestamp', 'Cleaned_Text'],\n",
      "      dtype='object')\n",
      "0       0.9914\n",
      "1       0.9896\n",
      "2       0.9628\n",
      "3       0.6697\n",
      "4       0.0000\n",
      "         ...  \n",
      "2041    0.6369\n",
      "2042    0.7845\n",
      "2043   -0.3182\n",
      "2044    0.4588\n",
      "2045    0.7906\n",
      "Name: Sentiment_Score, Length: 2046, dtype: float64\n"
     ]
    }
   ],
   "source": [
    "import pandas as pd\n",
    "import re\n",
    "from nltk.corpus import stopwords\n",
    "import nltk\n",
    "from nltk.sentiment import SentimentIntensityAnalyzer\n",
    "\n",
    "# Download stopwords if not already downloaded\n",
    "if not nltk.download('stopwords'):\n",
    "    nltk.download('stopwords')\n",
    "\n",
    "\n",
    "# Check the columns of the dataframe to make sure 'comment' column exists\n",
    "print(\"Columns in the DataFrame:\", df.columns)\n",
    "\n",
    "# Function to clean text\n",
    "def clean_text(text):\n",
    "    # Ensure the text is a string before cleaning\n",
    "    if isinstance(text, str):\n",
    "        # Remove special characters, HTML tags, and numbers\n",
    "        text = re.sub(r'<[^>]*>|[\\W_]+|\\d+', ' ', text).lower()\n",
    "\n",
    "        # Tokenize and remove stopwords\n",
    "        stop_words = set(stopwords.words('english'))\n",
    "        words = [word for word in text.split() if word not in stop_words]\n",
    "\n",
    "        # Join words back into a single string\n",
    "        return ' '.join(words)\n",
    "    return ''  # Return an empty string if the input is not a valid string\n",
    "\n",
    "# Apply cleaning to the 'comment' column (adjust 'comment' to the actual column name in your CSV)\n",
    "df['Cleaned_Text'] = df['comment'].apply(clean_text)\n",
    "\n",
    "# Check if the 'Cleaned_Text' column is created\n",
    "print(\"Columns after cleaning:\", df.columns)\n",
    "\n",
    "# Initialize Sentiment Analyzer\n",
    "sia = SentimentIntensityAnalyzer()\n",
    "\n",
    "# Function to calculate sentiment score\n",
    "def get_sentiment_score(text):\n",
    "    if isinstance(text, str):  # Ensure the text is a string before analyzing sentiment\n",
    "        sentiment = sia.polarity_scores(text)\n",
    "        return sentiment['compound']  # Compound score is a good overall metric\n",
    "    return 0  # Return 0 for non-string values\n",
    "\n",
    "# Apply sentiment analysis\n",
    "df['Sentiment_Score'] = df['Cleaned_Text'].apply(get_sentiment_score)\n",
    "\n",
    "# Display the DataFrame\n",
    "print(df['Sentiment_Score'])\n"
   ]
  },
  {
   "cell_type": "code",
   "execution_count": 14,
   "id": "f6ff082e-e6f4-4f78-9a17-5494d0f2a2cd",
   "metadata": {},
   "outputs": [
    {
     "data": {
      "image/png": "[encoded data removed]",
      "text/plain": [
       "<Figure size 1000x600 with 1 Axes>"
      ]
     },
     "metadata": {},
     "output_type": "display_data"
    }
   ],
   "source": [
    "from sklearn.cluster import KMeans\n",
    "import matplotlib.pyplot as plt\n",
    "\n",
    "\n",
    "# Reshape the sentiment scores for clustering\n",
    "sentiment_scores = df['Sentiment_Score'].values.reshape(-1, 1)\n",
    "\n",
    "# Perform K-means clustering\n",
    "kmeans = KMeans(n_clusters=3)\n",
    "df['Sentiment_Cluster'] = kmeans.fit_predict(sentiment_scores)\n",
    "\n",
    "# Visualize clusters\n",
    "df.groupby('Sentiment_Cluster')['Sentiment_Score'].mean().plot(kind='bar', figsize=(10,6), title='Sentiment Clusters')\n",
    "plt.ylabel('Average Sentiment Score')\n",
    "plt.show()\n"
   ]
  },
  {
   "cell_type": "code",
   "execution_count": 15,
   "id": "2cfb3202-deb0-4532-9400-cb0cfe5be636",
   "metadata": {},
   "outputs": [
    {
     "name": "stdout",
     "output_type": "stream",
     "text": [
      "Correlation between Sentiment Score and Rating: 0.6854851548577701\n"
     ]
    }
   ],
   "source": [
    "correlation = df['Sentiment_Score'].corr(df['rate'])\n",
    "print(f\"Correlation between Sentiment Score and Rating: {correlation}\")"
   ]
  },
  {
   "cell_type": "code",
   "execution_count": 16,
   "id": "278db553-e613-4e4e-8be8-9eb1212e5fc2",
   "metadata": {},
   "outputs": [
    {
     "data": {
      "image/png": "[encoded data removed]",
      "text/plain": [
       "<Figure size 600x400 with 2 Axes>"
      ]
     },
     "metadata": {},
     "output_type": "display_data"
    }
   ],
   "source": [
    "import seaborn as sns\n",
    "corr = df[['Sentiment_Score', 'rate']].corr()\n",
    "\n",
    "# Create heatmap\n",
    "plt.figure(figsize=(6, 4))\n",
    "sns.heatmap(corr, annot=True, cmap='coolwarm', fmt='.2f', cbar=True)\n",
    "plt.title('Correlation Heatmap')\n",
    "plt.show()"
   ]
  },
  {
   "cell_type": "code",
   "execution_count": 17,
   "id": "0c5a6a22-76b2-4eb9-80ac-3c4cf91e565e",
   "metadata": {},
   "outputs": [
    {
     "data": {
      "image/png": "[encoded data removed]",
      "text/plain": [
       "<Figure size 640x480 with 1 Axes>"
      ]
     },
     "metadata": {},
     "output_type": "display_data"
    }
   ],
   "source": [
    "sns.scatterplot(data=df, x='Sentiment_Score', y='rate')\n",
    "plt.title('Sentiment Score vs Rating')\n",
    "plt.xlabel('Sentiment Score')\n",
    "plt.ylabel('Rating')\n",
    "plt.show()"
   ]
  },
  {
   "cell_type": "code",
   "execution_count": 18,
   "id": "1add521e-1e4e-49a5-a877-349c209972b2",
   "metadata": {},
   "outputs": [
    {
     "data": {
      "image/png": "[encoded data removed]",
      "text/plain": [
       "<Figure size 640x480 with 1 Axes>"
      ]
     },
     "metadata": {},
     "output_type": "display_data"
    }
   ],
   "source": [
    "import matplotlib.pyplot as plt\n",
    "\n",
    "# Plot histogram to see the distribution\n",
    "plt.hist(df['Sentiment_Score'], bins=20, edgecolor='black')\n",
    "plt.title('Sentiment Score Distribution')\n",
    "plt.xlabel('Sentiment Score')\n",
    "plt.ylabel('Frequency')\n",
    "plt.show()\n"
   ]
  }
 ],
 "metadata": {
  "kernelspec": {
   "display_name": ".venv",
   "language": "python",
   "name": "python3"
  },
  "language_info": {
   "codemirror_mode": {
    "name": "ipython",
    "version": 3
   },
   "file_extension": ".py",
   "mimetype": "text/x-python",
   "name": "python",
   "nbconvert_exporter": "python",
   "pygments_lexer": "ipython3",
   "version": "3.12.8"
  }
 },
 "nbformat": 4,
 "nbformat_minor": 5
}
